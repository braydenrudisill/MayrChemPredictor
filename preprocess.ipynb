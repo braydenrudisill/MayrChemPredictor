{
 "cells": [
  {
   "cell_type": "code",
   "execution_count": null,
   "metadata": {},
   "outputs": [],
   "source": [
    "def smi_tokenizer(smi):\n",
    "    \"\"\"\n",
    "    Tokenize a SMILES molecule or reaction\n",
    "    \"\"\"\n",
    "    import re\n",
    "    pattern =  \"(\\[[^\\]]+]|Br?|Cl?|N|O|S|P|F|I|b|c|n|o|s|p|\\(|\\)|\\.|=|#|-|\\+|\\\\\\\\|\\/|:|~|@|\\?|>|\\*|\\$|\\%[0-9]{2}|[0-9])\"\n",
    "    regex = re.compile(pattern)\n",
    "    tokens = [token for token in regex.findall(smi)]\n",
    "    assert smi == ''.join(tokens), f\"Smiles: {smi}, Tokens: {''.join(tokens)}\"\n",
    "    return ' '.join(tokens)"
   ]
  },
  {
   "cell_type": "code",
   "execution_count": null,
   "metadata": {},
   "outputs": [],
   "source": [
    "\n",
    "for file in ('test_src', 'test_tgt', 'train_src', 'train_tgt', 'valid_src', 'valid_tgt'):\n",
    "        with open(f'/baldig/chemistry/2023_rp/mirana_data/no_maps/{file}.txt', 'r') as f:\n",
    "                reactions = [smi_tokenizer(smile) for smile in f.read().splitlines()]\n",
    "        \n",
    "        with open(f'/baldig/chemistry/2023_rp/mirana_data/split/{file}.txt', 'w+') as f:\n",
    "                f.write('\\n'.join(reactions))"
   ]
  },
  {
   "cell_type": "code",
   "execution_count": 1,
   "metadata": {},
   "outputs": [
    {
     "name": "stdout",
     "output_type": "stream",
     "text": [
      "76710 86299\n"
     ]
    }
   ],
   "source": [
    "from rdkit import Chem\n",
    "from tqdm import tqdm\n",
    "import numpy as np\n",
    "import re\n",
    "\n",
    "# File format:\n",
    "# [src]>>[tgt] [electron pushing arrows]\n",
    "with open('../data/new_mayr_data_09-19-23/mayr_nomaps.csv') as f:\n",
    "    reactions = [re.split(' |>>', line) for line in f.readlines()]\n",
    "\n",
    "src, tgt, _ = np.transpose(reactions)\n",
    "\n",
    "num_reactions = len(src)\n",
    "assert len(src) == len(tgt)\n",
    "\n",
    "train_pct, val_pct, test_pct = 0.8, 0.1, 0.1\n",
    "assert train_pct + val_pct + test_pct == 1\n",
    "\n",
    "split1 = int(train_pct * num_reactions)\n",
    "split2 = int((train_pct + val_pct) * num_reactions)\n",
    "\n",
    "indices = np.random.permutation(num_reactions)\n",
    "src = src[indices]\n",
    "tgt = tgt[indices]\n",
    "\n",
    "datasets = {\n",
    "    'src-train': src[:split1],\n",
    "    'tgt-train': tgt[:split1],\n",
    "    'src-val': src[split1:split2], \n",
    "    'tgt-val': tgt[split1:split2],\n",
    "    'src-test': src[split2:],\n",
    "    'tgt-test': tgt[split2:],\n",
    "}\n",
    "\n",
    "print(split1, split2)\n",
    "\n",
    "# Write split datasets\n",
    "# \n",
    "# for title, reactions in datasets.items():\n",
    "#     augm = Chem.MolToSmiles(Chem.MolFromSmiles())\n",
    "#     reactions = np.append(reactions, [Chem.MolToSmiles(Chem.MolFromSmiles(smile), doRandom=True) for smile in tqdm(reactions)])\n",
    "#     print(reactions)\n",
    "#\n",
    "#     with open(f'../data/new_mayr_data_09-19-23/preprocessed/{title}.csv', 'w+') as f:\n",
    "#         f.write('\\n'.join(smi_tokenizer(smile) for smile in reactions))"
   ]
  },
  {
   "cell_type": "code",
   "execution_count": null,
   "metadata": {},
   "outputs": [],
   "source": [
    "from rdkit import Chem\n",
    "from rdkit.Chem import Draw, AllChem\n",
    "\n",
    "# Display random molecules\n",
    "\n",
    "n = 1000\n",
    "print(src[n])\n",
    "print(tgt[n])\n",
    "\n",
    "src_m = Chem.MolFromSmiles(src[n])\n",
    "tgt_m = Chem.MolFromSmiles(tgt[n])\n",
    "Draw.MolsToGridImage((src_m, tgt_m))\n"
   ]
  },
  {
   "cell_type": "code",
   "execution_count": null,
   "metadata": {},
   "outputs": [],
   "source": [
    "from rdkit import Chem\n",
    "from rdkit.Chem import AllChem\n",
    "\n",
    "def remove_maps(smi):\n",
    "    smi = smi.replace(' ','')\n",
    "    mol = Chem.MolFromSmiles(smi, sanitize=False)\n",
    "\n",
    "    if mol is None:\n",
    "        print(f'Smile Error:\\n{smi}')\n",
    "\n",
    "    [a.SetAtomMapNum(0) for a in mol.GetAtoms()]\n",
    "    return Chem.MolToSmiles(mol)\n"
   ]
  },
  {
   "cell_type": "code",
   "execution_count": null,
   "metadata": {},
   "outputs": [],
   "source": [
    "from rdkit.Chem.MolStandardize import rdMolStandardize\n",
    "from rdkit.Chem import AtomValenceException\n",
    "\n",
    "def process_file(input_file, output_file):\n",
    "    with open(input_file, 'r') as infile:\n",
    "        lines = infile.readlines()\n",
    "\n",
    "    std_smi = [remove_maps(line.replace(' ','')) for line in lines]\n",
    "\n",
    "    with open(output_file, 'w+') as outfile:\n",
    "        outfile.write('\\n'.join(std_smi))\n",
    "\n",
    "\n",
    "for file in ('test_src', 'test_tgt', 'train_src', 'train_tgt', 'valid_src', 'valid_tgt'):\n",
    "    process_file(f'/baldig/chemistry/2023_rp/mirana_data/{file}.txt',\n",
    "                 f'/baldig/chemistry/2023_rp/mirana_data/no_maps/{file}.txt')"
   ]
  },
  {
   "cell_type": "code",
   "execution_count": null,
   "metadata": {},
   "outputs": [],
   "source": [
    "with open('/baldig/chemistry/2023_rp/OpenNMT-py/models/mayr_20000_5.txt', 'rb') as f:\n",
    "    print(num_lines:=sum(1 for _ in f), num_lines%5)"
   ]
  }
 ],
 "metadata": {
  "kernelspec": {
   "display_name": "jinxing",
   "language": "python",
   "name": "python3"
  },
  "language_info": {
   "codemirror_mode": {
    "name": "ipython",
    "version": 3
   },
   "file_extension": ".py",
   "mimetype": "text/x-python",
   "name": "python",
   "nbconvert_exporter": "python",
   "pygments_lexer": "ipython3",
   "version": "3.9.18"
  }
 },
 "nbformat": 4,
 "nbformat_minor": 2
}
